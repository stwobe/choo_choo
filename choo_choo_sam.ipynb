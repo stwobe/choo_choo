{
 "cells": [
  {
   "cell_type": "code",
   "execution_count": 39,
   "metadata": {},
   "outputs": [],
   "source": [
    "import time\n",
    "ts = time.sleep\n",
    "from IPython.display import clear_output\n",
    "def long_train():\n",
    "    space_at_start = 50\n",
    "    while space_at_start > 0:\n",
    "        print(\" \" * space_at_start, end = '')\n",
    "        print(\"\\U0001F682\" + \".\", end ='')\n",
    "        for n in range (20):\n",
    "            print(\"\\U0001F683\" + \".\", end = '')\n",
    "        print(\"\\U0001F683\", end = '')\n",
    "        space_at_start-=1\n",
    "        ts(0.08)\n",
    "        clear_output(wait=True)"
   ]
  },
  {
   "cell_type": "code",
   "execution_count": 40,
   "metadata": {},
   "outputs": [
    {
     "name": "stdout",
     "output_type": "stream",
     "text": [
      " 🚂.🚃.🚃.🚃.🚃.🚃.🚃.🚃.🚃.🚃.🚃.🚃.🚃.🚃.🚃.🚃.🚃.🚃.🚃.🚃.🚃.🚃"
     ]
    }
   ],
   "source": [
    "long_train()"
   ]
  },
  {
   "cell_type": "markdown",
   "metadata": {},
   "source": [
    "## "
   ]
  }
 ],
 "metadata": {
  "kernelspec": {
   "display_name": "Python 3",
   "language": "python",
   "name": "python3"
  },
  "language_info": {
   "codemirror_mode": {
    "name": "ipython",
    "version": 3
   },
   "file_extension": ".py",
   "mimetype": "text/x-python",
   "name": "python",
   "nbconvert_exporter": "python",
   "pygments_lexer": "ipython3",
   "version": "3.7.7"
  }
 },
 "nbformat": 4,
 "nbformat_minor": 4
}
